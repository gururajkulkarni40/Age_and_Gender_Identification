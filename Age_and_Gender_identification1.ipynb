{
  "nbformat": 4,
  "nbformat_minor": 0,
  "metadata": {
    "colab": {
      "name": "Age_and_Gender_identification1.ipynb",
      "provenance": [],
      "authorship_tag": "ABX9TyOUhu157dsYRY0pBZZQfjib",
      "include_colab_link": true
    },
    "kernelspec": {
      "name": "python3",
      "display_name": "Python 3"
    },
    "language_info": {
      "name": "python"
    },
    "accelerator": "GPU"
  },
  "cells": [
    {
      "cell_type": "markdown",
      "metadata": {
        "id": "view-in-github",
        "colab_type": "text"
      },
      "source": [
        "<a href=\"https://colab.research.google.com/github/gururajkulkarni40/Age_and_Gender_Identification/blob/main/Age_and_Gender_identification1.ipynb\" target=\"_parent\"><img src=\"https://colab.research.google.com/assets/colab-badge.svg\" alt=\"Open In Colab\"/></a>"
      ]
    },
    {
      "cell_type": "code",
      "metadata": {
        "id": "kCzkX9Qtj_n3"
      },
      "source": [
        "import cv2\n",
        "import os\n"
      ],
      "execution_count": null,
      "outputs": []
    },
    {
      "cell_type": "code",
      "metadata": {
        "colab": {
          "base_uri": "https://localhost:8080/"
        },
        "id": "-OEWtESVuqc3",
        "outputId": "7ccb340b-6096-43cb-a94a-6b14bbe523ac"
      },
      "source": [
        "from google.colab import drive\n",
        "drive.mount('/content/drive')"
      ],
      "execution_count": null,
      "outputs": [
        {
          "output_type": "stream",
          "text": [
            "Drive already mounted at /content/drive; to attempt to forcibly remount, call drive.mount(\"/content/drive\", force_remount=True).\n"
          ],
          "name": "stdout"
        }
      ]
    },
    {
      "cell_type": "code",
      "metadata": {
        "id": "pAaRiRBgvCyk"
      },
      "source": [
        "os.chdir('/content/drive/MyDrive/MACHINE LEARNING PROJECTS/Age and Gender Recognition/models')"
      ],
      "execution_count": null,
      "outputs": []
    },
    {
      "cell_type": "code",
      "metadata": {
        "id": "BftQDV4kvNm1"
      },
      "source": [
        "def detectFace(net,frame,confidence_threshold=0.7):\n",
        "    frameOpencvDNN=frame.copy()\n",
        "    print(frameOpencvDNN.shape)\n",
        "    frameHeight=frameOpencvDNN.shape[0]\n",
        "    frameWidth=frameOpencvDNN.shape[1]\n",
        "    blob=cv2.dnn.blobFromImage(frameOpencvDNN,1.0,(227,227),[124.96,115.97,106.13],swapRB=True,crop=False)\n",
        "    net.setInput(blob)\n",
        "    detections=net.forward()\n",
        "   # print(detections[0][0])\n",
        "    faceBoxes=[]\n",
        "    for i in range(detections.shape[2]):\n",
        "        confidence=detections[0,0,i,2]\n",
        "        if confidence>confidence_threshold:\n",
        "            x1=int(detections[0,0,i,3]*frameWidth)\n",
        "            y1=int(detections[0,0,i,4]*frameHeight)\n",
        "            x2=int(detections[0,0,i,5]*frameWidth)\n",
        "            y2=int(detections[0,0,i,6]*frameHeight)\n",
        "            faceBoxes.append([x1,y1,x2,y2])\n",
        "            cv2.rectangle(frameOpencvDNN,(x1,y1),(x2,y2),(0,255,0),int(round(frameHeight/150)),8)\n",
        "    return frameOpencvDNN,faceBoxes\n",
        "        \n",
        "    \n",
        "faceProto='/content/drive/MyDrive/MACHINE LEARNING PROJECTS/Age and Gender Recognition/models/opencv_face_detector.pbtxt'\n",
        "faceModel='/content/drive/MyDrive/MACHINE LEARNING PROJECTS/Age and Gender Recognition/models/opencv_face_detector_uint8.pb'\n",
        "ageProto='/content/drive/MyDrive/MACHINE LEARNING PROJECTS/Age and Gender Recognition/models/age_deploy.prototxt'\n",
        "ageModel='/content/drive/MyDrive/MACHINE LEARNING PROJECTS/Age and Gender Recognition/models/age_net.caffemodel'\n",
        "genderProto='/content/drive/MyDrive/MACHINE LEARNING PROJECTS/Age and Gender Recognition/models/gender_deploy.prototxt'\n",
        "genderModel='/content/drive/MyDrive/MACHINE LEARNING PROJECTS/Age and Gender Recognition/models/gender_net.caffemodel'\n",
        "\n",
        "genderList=['Male','Female']\n",
        "ageList=['(0-2)','(4-6)','(8-12)','(15-20)','(25-32)','(38-43)','(48-53)','(60-100)']\n",
        "\n",
        "faceNet=cv2.dnn.readNet(faceModel,faceProto)\n",
        "ageNet=cv2.dnn.readNet(ageModel,ageProto)\n",
        "genderNet=cv2.dnn.readNet(genderModel,genderProto)\n",
        "\n",
        "video=cv2.VideoCapture(0)\n",
        "padding=20\n",
        "while cv2.waitKey(1)<0:\n",
        "    hasFrame,frame=video.read()\n",
        "    if not hasFrame:\n",
        "        cv2.waitKey()\n",
        "        break\n",
        "        \n",
        "    resultImg,faceBoxes=detectFace(faceNet,frame)\n",
        "    \n",
        "    if not faceBoxes:\n",
        "        print(\"No face detected\")\n",
        "    \n",
        "    for faceBox in faceBoxes:\n",
        "        face=frame[max(0,faceBox[1]-padding):min(faceBox[3]+padding,frame.shape[0]-1),max(0,faceBox[0]-padding):min(faceBox[2]+padding, frame.shape[1]-1)]\n",
        "        blob=cv2.dnn.blobFromImage(face,1.0,(227,227),[124.96,115.97,106.13],swapRB=True,crop=False)\n",
        "        genderNet.setInput(blob)\n",
        "        genderPreds=genderNet.forward()\n",
        "        gender=genderList[genderPreds[0].argmax()]\n",
        "        \n",
        "        ageNet.setInput(blob)\n",
        "        agePreds=ageNet.forward()\n",
        "        age=ageList[agePreds[0].argmax()]\n",
        "        cv2.putText(resultImg,f'{gender},{age}',(faceBox[0],faceBox[1]-10),cv2.FONT_HERSHEY_SIMPLEX,0.8,(0,255,255),2,cv2.LINE_AA)\n",
        "        cv2.imshow(\"Detecting age and Gender\",resultImg)\n",
        "        \n",
        "        \n",
        "        if cv2.waitKey(33) & 0xFF == ord('q'):\n",
        "            break\n",
        "            \n",
        "cv2.destroyAllWindows()"
      ],
      "execution_count": null,
      "outputs": []
    },
    {
      "cell_type": "code",
      "metadata": {
        "id": "E2wYjYwZ1i8O"
      },
      "source": [
        ""
      ],
      "execution_count": null,
      "outputs": []
    }
  ]
}